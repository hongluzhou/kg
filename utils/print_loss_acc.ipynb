{
 "cells": [
  {
   "cell_type": "code",
   "execution_count": 1,
   "id": "056d9362-8211-45b3-a705-3c506348b2c3",
   "metadata": {},
   "outputs": [],
   "source": [
    "import os\n",
    "import pdb\n",
    "import glob\n",
    "from tqdm import tqdm\n",
    "import matplotlib.pyplot as plt\n",
    "%matplotlib inline"
   ]
  },
  {
   "cell_type": "code",
   "execution_count": 9,
   "id": "c7950ded-d684-4e65-98c4-48d19a1b4e10",
   "metadata": {},
   "outputs": [],
   "source": [
    "search_word = '[14000/14616]'\n",
    "# Train < Adapter > [e05][14000/14616] Loss 5.6505(5.7592) Acc 21.8750(19.8635)\n",
    "\n",
    "# log_file = '../output_logs/baseline-2022-07-11T22-51-25Z-train_adapter.log'  # the one has no wandb exp\n",
    "\n",
    "# log_file = '../output_logs/baseline-2022-07-13T05-28-35Z-train_adapter.log' # sv new lr\n",
    "log_file = '../output_logs/baseline-2022-07-13T05-32-16Z-train_adapter.log'  # sv old lr\n",
    "log_file = '../output_logs/baseline-2022-07-15T05-20-20Z-train_adapter.log'  # sv old lr cont\n",
    "\n",
    "# log_file = '../output_logs/baseline-2022-07-15T05-57-05Z-train_adapter.log' # SV 0.2 w/bg 0.5\n",
    "# log_file = '../output_logs/baseline-2022-07-15T05-38-30Z-train_adapter.log' # SN 0.2 w/bg 0.5\n",
    "# log_file = '../output_logs/baseline-2022-07-15T05-41-31Z-train_adapter.log' # SN 0.2 w/bg 0.7\n",
    "\n",
    "# log_file = '../output_logs/baseline-2022-07-15T05-45-33Z-train_adapter.log' # KL-top3\n",
    "# log_file = '../output_logs/baseline-2022-07-15T06-05-48Z-train_adapter.log' # Regression\n",
    "\n",
    "# log_file = '../output_logs/baseline-2022-07-15T05-28-45Z-train_adapter.log'  # SV, 0.2 baseline\n",
    "# log_file = '../output_logs/baseline-2022-07-15T17-42-24Z-train_adapter.log'  # SV 0.2 w/bg 0.5 CONT\n",
    "\n",
    "log_file = '../output_logs/baseline-2022-07-21T04-34-57Z-train_adapter.log'\n"
   ]
  },
  {
   "cell_type": "code",
   "execution_count": 10,
   "id": "c964e161-6a5f-464c-a083-86f1c8e98411",
   "metadata": {},
   "outputs": [
    {
     "name": "stdout",
     "output_type": "stream",
     "text": [
      "Best acc: 19.3269\n",
      "Best acc epoch: 52\n",
      "In total, 118 epochs\n"
     ]
    }
   ],
   "source": [
    "best_acc = 0\n",
    "best_acc_epoch = 0\n",
    "acc_list = []\n",
    "loss_list = []\n",
    "with open(log_file, 'r') as f:\n",
    "    lines = f.readlines()\n",
    "    \n",
    "for line in lines:\n",
    "    if search_word in line:\n",
    "        line_elements = line.split()\n",
    "        \n",
    "        loss_idx = line_elements.index('Loss') + 1\n",
    "        acc_idx =  line_elements.index('Acc') + 1\n",
    "        \n",
    "        for i in range(len(line_elements)):\n",
    "            if search_word in line_elements[i]:\n",
    "                epoch = line_elements[i].split(search_word)[0].split('[e')[1].split(']')[0]\n",
    "                break\n",
    "        \n",
    "        acc = float(line_elements[acc_idx].split('(')[1].split(')')[0])\n",
    "        loss = float(line_elements[loss_idx].split('(')[1].split(')')[0])\n",
    "        acc_list.append(acc)\n",
    "        loss_list.append(loss)\n",
    "        \n",
    "        if acc > best_acc:\n",
    "            best_acc = acc\n",
    "            best_acc_epoch = epoch\n",
    "                \n",
    "    # break\n",
    "\n",
    "print('Best acc: {}'.format(best_acc))\n",
    "print('Best acc epoch: {}'.format(best_acc_epoch))\n",
    "print('In total, {} epochs'.format(len(acc_list)))"
   ]
  },
  {
   "cell_type": "code",
   "execution_count": 8,
   "id": "c98d7d42-72cd-4c2f-b451-9c5cf37f3f20",
   "metadata": {},
   "outputs": [
    {
     "data": {
      "image/png": "[encoded data removed]",
      "text/plain": [
       "<Figure size 432x288 with 1 Axes>"
      ]
     },
     "metadata": {
      "needs_background": "light"
     },
     "output_type": "display_data"
    }
   ],
   "source": [
    "fig = plt.figure()\n",
    "# ax = plt.axes()\n",
    "plt.ylabel('Acc')\n",
    "plt.xlabel('Epoch')\n",
    "plt.title('Acc Curve')\n",
    "plt.plot(acc_list)\n",
    "plt.tight_layout()\n",
    "plt.savefig('{}_acc_curve.png'.format(log_file[:-4]), bbox_inches='tight', transparent=True)\n",
    "plt.show()\n",
    "plt.close()"
   ]
  },
  {
   "cell_type": "code",
   "execution_count": 147,
   "id": "f5294710-126e-4059-a0df-0b74a2b68cd9",
   "metadata": {},
   "outputs": [
    {
     "data": {
      "text/plain": [
       "[15.6933,\n",
       " 29.2715,\n",
       " 35.4774,\n",
       " 39.8325,\n",
       " 42.991,\n",
       " 45.5797,\n",
       " 47.661,\n",
       " 49.516,\n",
       " 51.139,\n",
       " 52.6302,\n",
       " 53.9506,\n",
       " 55.2434,\n",
       " 56.4193,\n",
       " 57.5222,\n",
       " 58.5636,\n",
       " 59.5917,\n",
       " 60.5381,\n",
       " 61.4872,\n",
       " 62.3504,\n",
       " 63.1809,\n",
       " 64.0482,\n",
       " 64.8689,\n",
       " 65.6607,\n",
       " 66.4283,\n",
       " 67.1678,\n",
       " 67.9055,\n",
       " 68.6304,\n",
       " 69.3335,\n",
       " 70.0082,\n",
       " 70.7067,\n",
       " 71.3701,\n",
       " 72.0188,\n",
       " 72.6895,\n",
       " 73.3268,\n",
       " 73.9356,\n",
       " 74.5357,\n",
       " 75.152,\n",
       " 75.7605,\n",
       " 76.3496]"
      ]
     },
     "execution_count": 147,
     "metadata": {},
     "output_type": "execute_result"
    }
   ],
   "source": [
    "acc_list"
   ]
  },
  {
   "cell_type": "code",
   "execution_count": 215,
   "id": "50fdd1ed-c6c7-46a5-92bc-eb3e9581afd8",
   "metadata": {},
   "outputs": [
    {
     "data": {
      "image/png": "[encoded data removed]",
      "text/plain": [
       "<Figure size 432x288 with 1 Axes>"
      ]
     },
     "metadata": {
      "needs_background": "light"
     },
     "output_type": "display_data"
    }
   ],
   "source": [
    "fig = plt.figure()\n",
    "# ax = plt.axes()\n",
    "plt.ylabel('Loss')\n",
    "plt.xlabel('Epoch')\n",
    "plt.title('Loss Curve')\n",
    "plt.plot(loss_list)\n",
    "plt.tight_layout()\n",
    "plt.savefig('{}_loss_curve.png'.format(log_file[:-4]), bbox_inches='tight', transparent=True)\n",
    "plt.show()\n",
    "plt.close()"
   ]
  },
  {
   "cell_type": "code",
   "execution_count": 227,
   "id": "f4beaf2d-d077-479e-93b8-5d51bc626182",
   "metadata": {},
   "outputs": [
    {
     "data": {
      "image/png": "[encoded data removed]",
      "text/plain": [
       "<Figure size 432x288 with 1 Axes>"
      ]
     },
     "metadata": {
      "needs_background": "light"
     },
     "output_type": "display_data"
    }
   ],
   "source": [
    "line2parse = 'epoch 250 (63.08), epoch 140 (62.87), epoch 130 (62.76), epoch 110 (62.55), epoch 190 (62.55), epoch 90 (62.45), epoch 170 (62.24), epoch 180 (62.24), epoch 200 (61.92), epoch 400 (61.81), epoch 120 (61.71), epoch 350 (61.71), epoch 80 (61.71), epoch 160 (61.71), epoch 150 (61.60), epoch 60 (61.50), epoch 300 (61.39), epoch 100 (60.86), epoch 25 (60.44), epoch 40 (59.92), epoch 15 (57.59), epoch 20 (57.17), epoch 10 (56.43), epoch 5 (54.64)'\n",
    "epoch_results = dict()\n",
    "for epoch_result in line2parse.split(','):\n",
    "    epoch_res = float(epoch_result.split('(')[1].split(')')[0])\n",
    "    epoch_num = int(epoch_result.split('(')[0].split()[1])\n",
    "    epoch_results[epoch_num] = epoch_res\n",
    "x_line = sorted(list(epoch_results.keys()))\n",
    "y_line = [epoch_results[x] for x in x_line]\n",
    "\n",
    "fig = plt.figure()\n",
    "# ax = plt.axes()\n",
    "plt.ylabel('Acc')\n",
    "plt.xlabel('Epoch')\n",
    "plt.title('Downstream Acc Curve')\n",
    "plt.plot(x_line, y_line)\n",
    "plt.tight_layout()\n",
    "plt.savefig('{}_acc_curve.png'.format('downstream'), bbox_inches='tight', transparent=True)\n",
    "plt.show()\n",
    "plt.close()"
   ]
  },
  {
   "cell_type": "code",
   "execution_count": null,
   "id": "865b14c1-d68c-41b5-a5eb-490aa1f01faa",
   "metadata": {},
   "outputs": [],
   "source": []
  }
 ],
 "metadata": {
  "kernelspec": {
   "display_name": "ginst",
   "language": "python",
   "name": "myenv"
  },
  "language_info": {
   "codemirror_mode": {
    "name": "ipython",
    "version": 3
   },
   "file_extension": ".py",
   "mimetype": "text/x-python",
   "name": "python",
   "nbconvert_exporter": "python",
   "pygments_lexer": "ipython3",
   "version": "3.8.13"
  }
 },
 "nbformat": 4,
 "nbformat_minor": 5
}
